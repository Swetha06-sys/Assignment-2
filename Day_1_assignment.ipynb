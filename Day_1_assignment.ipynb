{
  "nbformat": 4,
  "nbformat_minor": 0,
  "metadata": {
    "colab": {
      "name": "Day 1 assignment.ipynb",
      "provenance": [],
      "include_colab_link": true
    },
    "kernelspec": {
      "name": "python3",
      "display_name": "Python 3"
    }
  },
  "cells": [
    {
      "cell_type": "markdown",
      "metadata": {
        "id": "view-in-github",
        "colab_type": "text"
      },
      "source": [
        "<a href=\"https://colab.research.google.com/github/Swetha06-sys/Assignment-2/blob/main/Day_1_assignment.ipynb\" target=\"_parent\"><img src=\"https://colab.research.google.com/assets/colab-badge.svg\" alt=\"Open In Colab\"/></a>"
      ]
    },
    {
      "cell_type": "code",
      "metadata": {
        "id": "Z4OWX_gYMd40"
      },
      "source": [
        "1. Answer(B. RAINBOW)"
      ],
      "execution_count": null,
      "outputs": []
    },
    {
      "cell_type": "code",
      "metadata": {
        "id": "03pEVe2H83XO",
        "outputId": "ed79a59a-f9a5-4bbc-b99f-7c8e352b94f8",
        "colab": {
          "base_uri": "https://localhost:8080/"
        }
      },
      "source": [
        "n= str(input());\n",
        "c= n.upper();\n",
        "print('\"{}\"'.format(c));"
      ],
      "execution_count": null,
      "outputs": [
        {
          "output_type": "stream",
          "text": [
            "Let's UPGrade\n",
            "\"LET'S UPGRADE\"\n"
          ],
          "name": "stdout"
        }
      ]
    },
    {
      "cell_type": "code",
      "metadata": {
        "id": "KcFKJNjKC-OM",
        "outputId": "fda26dc7-43dd-4ae1-c8ce-fc6ec07327cd",
        "colab": {
          "base_uri": "https://localhost:8080/"
        }
      },
      "source": [
        "cp=int(input());\n",
        "sp=int(input());\n",
        "if(cp>sp):\n",
        "  print ('loss');\n",
        "elif(cp<sp):\n",
        "  print('profit');\n",
        "else:\n",
        "  print('neither');"
      ],
      "execution_count": null,
      "outputs": [
        {
          "output_type": "stream",
          "text": [
            "20\n",
            "30\n",
            "profit\n"
          ],
          "name": "stdout"
        }
      ]
    },
    {
      "cell_type": "code",
      "metadata": {
        "id": "9XaD24UBGiSz",
        "outputId": "5210bb4e-d640-4d24-c1c9-e71d64fc40d4",
        "colab": {
          "base_uri": "https://localhost:8080/"
        }
      },
      "source": [
        " cp=int(input(\" \"));\n",
        "sp=int(input(\" \"));\n",
        "if(cp>sp):\n",
        "  print ('loss');\n",
        "elif(cp<sp):\n",
        "  print('profit');\n",
        "else:\n",
        "  print('neither');"
      ],
      "execution_count": null,
      "outputs": [
        {
          "output_type": "stream",
          "text": [
            " 20\n",
            " 10\n",
            "loss\n"
          ],
          "name": "stdout"
        }
      ]
    },
    {
      "cell_type": "code",
      "metadata": {
        "id": "aeVN5rFyHKVA",
        "outputId": "25d8bba4-7a49-4b76-e015-04c4f17268f5",
        "colab": {
          "base_uri": "https://localhost:8080/"
        }
      },
      "source": [
        " cp=int(input());\n",
        "sp=int(input());\n",
        "if(cp>sp):\n",
        "  print ('loss');\n",
        "elif(cp<sp):\n",
        "  print('profit');\n",
        "else:\n",
        "  print('neither');"
      ],
      "execution_count": null,
      "outputs": [
        {
          "output_type": "stream",
          "text": [
            "20\n",
            "20\n",
            "neither\n"
          ],
          "name": "stdout"
        }
      ]
    },
    {
      "cell_type": "code",
      "metadata": {
        "id": "xWTFpWXfHTW4",
        "outputId": "5d038228-08c8-4890-f0f8-5314825c9479",
        "colab": {
          "base_uri": "https://localhost:8080/"
        }
      },
      "source": [
        " cp=int(input());\n",
        "sp=int(input());\n",
        "if(cp>sp):\n",
        "  print ('loss');\n",
        "elif(cp<sp):\n",
        "  print('profit');\n",
        "else:\n",
        "  print('neither');"
      ],
      "execution_count": null,
      "outputs": [
        {
          "output_type": "stream",
          "text": [
            "19\n",
            "19\n",
            "neither\n"
          ],
          "name": "stdout"
        }
      ]
    },
    {
      "cell_type": "code",
      "metadata": {
        "id": "Uhl-XeFDHd_i",
        "outputId": "f387c021-8cdb-4692-dd2c-ff0a4ad0f12d",
        "colab": {
          "base_uri": "https://localhost:8080/"
        }
      },
      "source": [
        " \n",
        "cp=int(input());\n",
        "sp=int(input());\n",
        "if(cp>sp):\n",
        "  print ('loss');\n",
        "elif(cp<sp):\n",
        "  print('profit');\n",
        "else:\n",
        "  print('neither');"
      ],
      "execution_count": null,
      "outputs": [
        {
          "output_type": "stream",
          "text": [
            "23\n",
            "7\n",
            "loss\n"
          ],
          "name": "stdout"
        }
      ]
    },
    {
      "cell_type": "code",
      "metadata": {
        "id": "A7W5ViZnHosO",
        "outputId": "fa31863e-4ca0-48b9-b956-a31f52126f0c",
        "colab": {
          "base_uri": "https://localhost:8080/"
        }
      },
      "source": [
        " \n",
        " cp=int(input());\n",
        "sp=int(input());\n",
        "if(cp>sp):\n",
        "  print ('loss');\n",
        "elif(cp<sp):\n",
        "  print('profit');\n",
        "else:\n",
        "  print('neither');"
      ],
      "execution_count": null,
      "outputs": [
        {
          "output_type": "stream",
          "text": [
            "19\n",
            "25\n",
            "profit\n"
          ],
          "name": "stdout"
        }
      ]
    },
    {
      "cell_type": "code",
      "metadata": {
        "id": "kjgi2dWxJY0W",
        "outputId": "3e031fe2-330f-4f27-989d-014db0926ed4",
        "colab": {
          "base_uri": "https://localhost:8080/"
        }
      },
      "source": [
        "n=int(input());\n",
        "c=(n*80);\n",
        "print (c);"
      ],
      "execution_count": null,
      "outputs": [
        {
          "output_type": "stream",
          "text": [
            "20\n",
            "1600\n"
          ],
          "name": "stdout"
        }
      ]
    },
    {
      "cell_type": "code",
      "metadata": {
        "id": "wwnQcQ4mLFkY",
        "outputId": "29020e8c-76e3-40f6-d70f-968c33ccb2ce",
        "colab": {
          "base_uri": "https://localhost:8080/"
        }
      },
      "source": [
        " n=int(input());\n",
        "c=(n*80);\n",
        "print (c);"
      ],
      "execution_count": null,
      "outputs": [
        {
          "output_type": "stream",
          "text": [
            "50\n",
            "4000\n"
          ],
          "name": "stdout"
        }
      ]
    },
    {
      "cell_type": "code",
      "metadata": {
        "id": "OJF_8-1lLPQ9",
        "outputId": "c3edc8d1-06c1-4062-8cb3-be10984e76bf",
        "colab": {
          "base_uri": "https://localhost:8080/"
        }
      },
      "source": [
        "n=int(input());\n",
        "c=(n*80);\n",
        "print (c);"
      ],
      "execution_count": null,
      "outputs": [
        {
          "output_type": "stream",
          "text": [
            "7\n",
            "560\n"
          ],
          "name": "stdout"
        }
      ]
    },
    {
      "cell_type": "code",
      "metadata": {
        "id": "c5TeOLhyLe_3",
        "outputId": "ccdc3681-0a9e-42a6-9ac6-daa618e5b0a5",
        "colab": {
          "base_uri": "https://localhost:8080/"
        }
      },
      "source": [
        "def d():\n",
        "   n=int(input())\n",
        "   c=(n*80)\n",
        "   print (c)\n",
        "d()"
      ],
      "execution_count": null,
      "outputs": [
        {
          "output_type": "stream",
          "text": [
            "35\n",
            "2800\n"
          ],
          "name": "stdout"
        }
      ]
    },
    {
      "cell_type": "code",
      "metadata": {
        "id": "Or_HqRBIMCkm",
        "outputId": "9f5223dc-a006-48ee-ee6d-0c1ce25d8d4b",
        "colab": {
          "base_uri": "https://localhost:8080/"
        }
      },
      "source": [
        "d()"
      ],
      "execution_count": null,
      "outputs": [
        {
          "output_type": "stream",
          "text": [
            "23\n",
            "1840\n"
          ],
          "name": "stdout"
        }
      ]
    },
    {
      "cell_type": "code",
      "metadata": {
        "id": "z1ZFY81jMLsu",
        "outputId": "7ee4c732-1d00-4d85-b6f7-7acc3db581e8",
        "colab": {
          "base_uri": "https://localhost:8080/"
        }
      },
      "source": [
        " d()"
      ],
      "execution_count": null,
      "outputs": [
        {
          "output_type": "stream",
          "text": [
            "95\n",
            "7600\n"
          ],
          "name": "stdout"
        }
      ]
    },
    {
      "cell_type": "code",
      "metadata": {
        "id": "k9b02njUMRf1",
        "outputId": "87c27ef3-4403-48fb-e9aa-b392f1339436",
        "colab": {
          "base_uri": "https://localhost:8080/"
        }
      },
      "source": [
        " d()"
      ],
      "execution_count": null,
      "outputs": [
        {
          "output_type": "stream",
          "text": [
            "18\n",
            "1440\n"
          ],
          "name": "stdout"
        }
      ]
    }
  ]
}